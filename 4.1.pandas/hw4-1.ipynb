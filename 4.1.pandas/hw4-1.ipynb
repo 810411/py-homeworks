{
 "cells": [
  {
   "cell_type": "code",
   "execution_count": 1,
   "metadata": {},
   "outputs": [],
   "source": [
    "import os.path\n",
    "import numpy as np\n",
    "import pandas as pd\n",
    "import matplotlib.pyplot as plt"
   ]
  },
  {
   "cell_type": "heading",
   "metadata": {},
   "level": 1,
   "source": [
    "Домашнее задание к лекции 4.1 «Работа с ipython notebook, pandas dataframe, загрузка данных»"
   ]
  },
  {
   "cell_type": "code",
   "execution_count": 2,
   "metadata": {},
   "outputs": [],
   "source": [
    "YOUR_PATH = './names/'  # путь до файлов\n",
    "\n",
    "\n",
    "def create_path(year):\n",
    "    folders = os.path.normpath(YOUR_PATH)\n",
    "    return os.path.join(folders, 'yob' + str(year) + '.txt')"
   ]
  },
  {
   "cell_type": "heading",
   "metadata": {},
   "level": 2,
   "source": [
    "Задача №1"
   ]
  },
  {
   "cell_type": "code",
   "execution_count": 5,
   "metadata": {},
   "outputs": [
    {
     "name": "stdout",
     "output_type": "stream",
     "text": [
      "['Michael', 'Jennifer', 'Christopher']\n['John', 'William', 'Mary']\n"
     ]
    }
   ],
   "source": [
    "def count_top3(*args):\n",
    "    names = pd.DataFrame()\n",
    "    for year in args:\n",
    "        if int(year) in range(1880, 2017):            \n",
    "            names = pd.concat([names, pd.read_csv(create_path(year), names=['Name', 'Gender', 'Count'])], axis=0)            \n",
    "            return names.groupby(['Name'], as_index=False).sum().sort_values(by=['Count'], ascending=False).head(3)['Name'].tolist()\n",
    "        \n",
    "print(count_top3(1981))\n",
    "print(count_top3(*[_ for _ in range(1880, 2017)]))"
   ]
  },
  {
   "cell_type": "heading",
   "metadata": {},
   "level": 2,
   "source": [
    "Задача №2"
   ]
  },
  {
   "cell_type": "code",
   "execution_count": 6,
   "metadata": {},
   "outputs": [
    {
     "name": "stdout",
     "output_type": "stream",
     "text": [
      "{'M': [150483, 1790549, 1962969], 'F': [299800, 1713151, 1815110]}\n"
     ]
    }
   ],
   "source": [
    "def count_dynamics(*args):\n",
    "    dynamics = {'M': [], 'F': []}\n",
    "    for year in args:\n",
    "        if int(year) in range(1880, 2018): \n",
    "            names = pd.read_csv(create_path(year), names=['Name', 'Gender', 'Count'])\n",
    "            dynamics['M'].append(names[names.Gender == 'M'].Count.sum())\n",
    "            dynamics['F'].append(names[names.Gender == 'F'].Count.sum())\n",
    "    return dynamics\n",
    "\n",
    "print(count_dynamics(1900, 1950, 2000))"
   ]
  },
  {
   "cell_type": "code",
   "execution_count": null,
   "metadata": {},
   "outputs": [],
   "source": []
  }
 ],
 "metadata": {},
 "nbformat": 4,
 "nbformat_minor": 2
}
